{
  "nbformat": 4,
  "nbformat_minor": 0,
  "metadata": {
    "colab": {
      "provenance": []
    },
    "kernelspec": {
      "name": "python3",
      "display_name": "Python 3"
    },
    "language_info": {
      "name": "python"
    },
    "gpuClass": "standard"
  },
  "cells": [
    {
      "cell_type": "markdown",
      "source": [
        "There are different types of callback and a The \"LearningRateScheduler callback\" allows you to define a function to call that takes the epoch number as an argument and returns the learning rate to use in stochastic gradient descent."
      ],
      "metadata": {
        "id": "lNUX7ICBVCsw"
      }
    },
    {
      "cell_type": "code",
      "source": [
        "#Lets create a quick dataset to play with.\n",
        "from sklearn.datasets import make_circles\n",
        "n_samples=100\n",
        "x,y=make_circles(n_samples,noise=0.03,random_state=42)\n",
        "#Split the dataset into traning and test\n",
        "from sklearn.model_selection import train_test_split\n",
        "X_train,X_test,y_train,y_test=train_test_split(x,y,test_size=0.2)\n",
        "\n",
        "#Model Creation\n",
        "import tensorflow as tf\n",
        "#set random seed\n",
        "tf.random.set_seed=42\n",
        "#Model\n",
        "model=tf.keras.Sequential([\n",
        "    tf.keras.layers.Dense(4,activation=\"relu\"),\n",
        "    tf.keras.layers.Dense(4,activation=\"relu\"),\n",
        "    tf.keras.layers.Dense(1,activation='sigmoid')\n",
        "])\n",
        "#Complite the model\n",
        "model.compile(loss=tf.keras.losses.BinaryCrossentropy(),\n",
        "              optimizer=tf.keras.optimizers.Adam(),\n",
        "              metrics=[\"accuracy\"])\n"
      ],
      "metadata": {
        "id": "m8_RJ26AVNdB"
      },
      "execution_count": 2,
      "outputs": []
    },
    {
      "cell_type": "code",
      "source": [
        "# initialize a learning rate callback\n",
        "lr_scheduler =tf.keras.callbacks.LearningRateScheduler(lambda epoch: 1e-4*10**(epoch/20))\n",
        "#fit the model\n",
        "history=model.fit(X_train,y_train,epochs=100,callbacks=[lr_scheduler])"
      ],
      "metadata": {
        "colab": {
          "base_uri": "https://localhost:8080/"
        },
        "id": "4xlJ52xUVVix",
        "outputId": "2227f125-7f85-422d-cfbd-fd689ef50f45"
      },
      "execution_count": 3,
      "outputs": [
        {
          "output_type": "stream",
          "name": "stdout",
          "text": [
            "Epoch 1/100\n",
            "3/3 [==============================] - 1s 10ms/step - loss: 0.6991 - accuracy: 0.4500 - lr: 1.0000e-04\n",
            "Epoch 2/100\n",
            "3/3 [==============================] - 0s 8ms/step - loss: 0.6991 - accuracy: 0.5000 - lr: 1.1220e-04\n",
            "Epoch 3/100\n",
            "3/3 [==============================] - 0s 7ms/step - loss: 0.6990 - accuracy: 0.4875 - lr: 1.2589e-04\n",
            "Epoch 4/100\n",
            "3/3 [==============================] - 0s 6ms/step - loss: 0.6989 - accuracy: 0.5000 - lr: 1.4125e-04\n",
            "Epoch 5/100\n",
            "3/3 [==============================] - 0s 6ms/step - loss: 0.6988 - accuracy: 0.4875 - lr: 1.5849e-04\n",
            "Epoch 6/100\n",
            "3/3 [==============================] - 0s 5ms/step - loss: 0.6987 - accuracy: 0.4875 - lr: 1.7783e-04\n",
            "Epoch 7/100\n",
            "3/3 [==============================] - 0s 6ms/step - loss: 0.6986 - accuracy: 0.4875 - lr: 1.9953e-04\n",
            "Epoch 8/100\n",
            "3/3 [==============================] - 0s 7ms/step - loss: 0.6985 - accuracy: 0.4750 - lr: 2.2387e-04\n",
            "Epoch 9/100\n",
            "3/3 [==============================] - 0s 6ms/step - loss: 0.6983 - accuracy: 0.4750 - lr: 2.5119e-04\n",
            "Epoch 10/100\n",
            "3/3 [==============================] - 0s 6ms/step - loss: 0.6982 - accuracy: 0.4625 - lr: 2.8184e-04\n",
            "Epoch 11/100\n",
            "3/3 [==============================] - 0s 6ms/step - loss: 0.6980 - accuracy: 0.4625 - lr: 3.1623e-04\n",
            "Epoch 12/100\n",
            "3/3 [==============================] - 0s 7ms/step - loss: 0.6978 - accuracy: 0.4875 - lr: 3.5481e-04\n",
            "Epoch 13/100\n",
            "3/3 [==============================] - 0s 8ms/step - loss: 0.6976 - accuracy: 0.4875 - lr: 3.9811e-04\n",
            "Epoch 14/100\n",
            "3/3 [==============================] - 0s 6ms/step - loss: 0.6974 - accuracy: 0.4875 - lr: 4.4668e-04\n",
            "Epoch 15/100\n",
            "3/3 [==============================] - 0s 6ms/step - loss: 0.6970 - accuracy: 0.4875 - lr: 5.0119e-04\n",
            "Epoch 16/100\n",
            "3/3 [==============================] - 0s 5ms/step - loss: 0.6967 - accuracy: 0.4875 - lr: 5.6234e-04\n",
            "Epoch 17/100\n",
            "3/3 [==============================] - 0s 10ms/step - loss: 0.6963 - accuracy: 0.4875 - lr: 6.3096e-04\n",
            "Epoch 18/100\n",
            "3/3 [==============================] - 0s 6ms/step - loss: 0.6959 - accuracy: 0.5000 - lr: 7.0795e-04\n",
            "Epoch 19/100\n",
            "3/3 [==============================] - 0s 7ms/step - loss: 0.6956 - accuracy: 0.4875 - lr: 7.9433e-04\n",
            "Epoch 20/100\n",
            "3/3 [==============================] - 0s 6ms/step - loss: 0.6951 - accuracy: 0.4875 - lr: 8.9125e-04\n",
            "Epoch 21/100\n",
            "3/3 [==============================] - 0s 6ms/step - loss: 0.6944 - accuracy: 0.4750 - lr: 0.0010\n",
            "Epoch 22/100\n",
            "3/3 [==============================] - 0s 6ms/step - loss: 0.6939 - accuracy: 0.5000 - lr: 0.0011\n",
            "Epoch 23/100\n",
            "3/3 [==============================] - 0s 6ms/step - loss: 0.6935 - accuracy: 0.5000 - lr: 0.0013\n",
            "Epoch 24/100\n",
            "3/3 [==============================] - 0s 10ms/step - loss: 0.6929 - accuracy: 0.5250 - lr: 0.0014\n",
            "Epoch 25/100\n",
            "3/3 [==============================] - 0s 6ms/step - loss: 0.6926 - accuracy: 0.5250 - lr: 0.0016\n",
            "Epoch 26/100\n",
            "3/3 [==============================] - 0s 5ms/step - loss: 0.6918 - accuracy: 0.5500 - lr: 0.0018\n",
            "Epoch 27/100\n",
            "3/3 [==============================] - 0s 5ms/step - loss: 0.6914 - accuracy: 0.6000 - lr: 0.0020\n",
            "Epoch 28/100\n",
            "3/3 [==============================] - 0s 6ms/step - loss: 0.6908 - accuracy: 0.5625 - lr: 0.0022\n",
            "Epoch 29/100\n",
            "3/3 [==============================] - 0s 6ms/step - loss: 0.6904 - accuracy: 0.5000 - lr: 0.0025\n",
            "Epoch 30/100\n",
            "3/3 [==============================] - 0s 6ms/step - loss: 0.6900 - accuracy: 0.5000 - lr: 0.0028\n",
            "Epoch 31/100\n",
            "3/3 [==============================] - 0s 6ms/step - loss: 0.6895 - accuracy: 0.5000 - lr: 0.0032\n",
            "Epoch 32/100\n",
            "3/3 [==============================] - 0s 5ms/step - loss: 0.6887 - accuracy: 0.5000 - lr: 0.0035\n",
            "Epoch 33/100\n",
            "3/3 [==============================] - 0s 6ms/step - loss: 0.6885 - accuracy: 0.5000 - lr: 0.0040\n",
            "Epoch 34/100\n",
            "3/3 [==============================] - 0s 6ms/step - loss: 0.6882 - accuracy: 0.5250 - lr: 0.0045\n",
            "Epoch 35/100\n",
            "3/3 [==============================] - 0s 5ms/step - loss: 0.6875 - accuracy: 0.5625 - lr: 0.0050\n",
            "Epoch 36/100\n",
            "3/3 [==============================] - 0s 7ms/step - loss: 0.6874 - accuracy: 0.5625 - lr: 0.0056\n",
            "Epoch 37/100\n",
            "3/3 [==============================] - 0s 6ms/step - loss: 0.6869 - accuracy: 0.6125 - lr: 0.0063\n",
            "Epoch 38/100\n",
            "3/3 [==============================] - 0s 6ms/step - loss: 0.6866 - accuracy: 0.6125 - lr: 0.0071\n",
            "Epoch 39/100\n",
            "3/3 [==============================] - 0s 6ms/step - loss: 0.6863 - accuracy: 0.6125 - lr: 0.0079\n",
            "Epoch 40/100\n",
            "3/3 [==============================] - 0s 6ms/step - loss: 0.6859 - accuracy: 0.6125 - lr: 0.0089\n",
            "Epoch 41/100\n",
            "3/3 [==============================] - 0s 5ms/step - loss: 0.6856 - accuracy: 0.5875 - lr: 0.0100\n",
            "Epoch 42/100\n",
            "3/3 [==============================] - 0s 5ms/step - loss: 0.6849 - accuracy: 0.6125 - lr: 0.0112\n",
            "Epoch 43/100\n",
            "3/3 [==============================] - 0s 6ms/step - loss: 0.6847 - accuracy: 0.6000 - lr: 0.0126\n",
            "Epoch 44/100\n",
            "3/3 [==============================] - 0s 10ms/step - loss: 0.6839 - accuracy: 0.6000 - lr: 0.0141\n",
            "Epoch 45/100\n",
            "3/3 [==============================] - 0s 6ms/step - loss: 0.6832 - accuracy: 0.6000 - lr: 0.0158\n",
            "Epoch 46/100\n",
            "3/3 [==============================] - 0s 6ms/step - loss: 0.6819 - accuracy: 0.6250 - lr: 0.0178\n",
            "Epoch 47/100\n",
            "3/3 [==============================] - 0s 6ms/step - loss: 0.6819 - accuracy: 0.6500 - lr: 0.0200\n",
            "Epoch 48/100\n",
            "3/3 [==============================] - 0s 7ms/step - loss: 0.6787 - accuracy: 0.6000 - lr: 0.0224\n",
            "Epoch 49/100\n",
            "3/3 [==============================] - 0s 6ms/step - loss: 0.6775 - accuracy: 0.6000 - lr: 0.0251\n",
            "Epoch 50/100\n",
            "3/3 [==============================] - 0s 6ms/step - loss: 0.6770 - accuracy: 0.5875 - lr: 0.0282\n",
            "Epoch 51/100\n",
            "3/3 [==============================] - 0s 6ms/step - loss: 0.6740 - accuracy: 0.5750 - lr: 0.0316\n",
            "Epoch 52/100\n",
            "3/3 [==============================] - 0s 6ms/step - loss: 0.6677 - accuracy: 0.6375 - lr: 0.0355\n",
            "Epoch 53/100\n",
            "3/3 [==============================] - 0s 6ms/step - loss: 0.6651 - accuracy: 0.5750 - lr: 0.0398\n",
            "Epoch 54/100\n",
            "3/3 [==============================] - 0s 7ms/step - loss: 0.6620 - accuracy: 0.6000 - lr: 0.0447\n",
            "Epoch 55/100\n",
            "3/3 [==============================] - 0s 6ms/step - loss: 0.6595 - accuracy: 0.6000 - lr: 0.0501\n",
            "Epoch 56/100\n",
            "3/3 [==============================] - 0s 6ms/step - loss: 0.6515 - accuracy: 0.6750 - lr: 0.0562\n",
            "Epoch 57/100\n",
            "3/3 [==============================] - 0s 7ms/step - loss: 0.6462 - accuracy: 0.6625 - lr: 0.0631\n",
            "Epoch 58/100\n",
            "3/3 [==============================] - 0s 7ms/step - loss: 0.6411 - accuracy: 0.6375 - lr: 0.0708\n",
            "Epoch 59/100\n",
            "3/3 [==============================] - 0s 6ms/step - loss: 0.6385 - accuracy: 0.6250 - lr: 0.0794\n",
            "Epoch 60/100\n",
            "3/3 [==============================] - 0s 7ms/step - loss: 0.6495 - accuracy: 0.6375 - lr: 0.0891\n",
            "Epoch 61/100\n",
            "3/3 [==============================] - 0s 6ms/step - loss: 0.6707 - accuracy: 0.6125 - lr: 0.1000\n",
            "Epoch 62/100\n",
            "3/3 [==============================] - 0s 7ms/step - loss: 0.6217 - accuracy: 0.6750 - lr: 0.1122\n",
            "Epoch 63/100\n",
            "3/3 [==============================] - 0s 7ms/step - loss: 0.6177 - accuracy: 0.6250 - lr: 0.1259\n",
            "Epoch 64/100\n",
            "3/3 [==============================] - 0s 6ms/step - loss: 0.5966 - accuracy: 0.7375 - lr: 0.1413\n",
            "Epoch 65/100\n",
            "3/3 [==============================] - 0s 8ms/step - loss: 0.6304 - accuracy: 0.6125 - lr: 0.1585\n",
            "Epoch 66/100\n",
            "3/3 [==============================] - 0s 6ms/step - loss: 0.6254 - accuracy: 0.6375 - lr: 0.1778\n",
            "Epoch 67/100\n",
            "3/3 [==============================] - 0s 5ms/step - loss: 0.6424 - accuracy: 0.5750 - lr: 0.1995\n",
            "Epoch 68/100\n",
            "3/3 [==============================] - 0s 7ms/step - loss: 0.5719 - accuracy: 0.7375 - lr: 0.2239\n",
            "Epoch 69/100\n",
            "3/3 [==============================] - 0s 7ms/step - loss: 0.5626 - accuracy: 0.7125 - lr: 0.2512\n",
            "Epoch 70/100\n",
            "3/3 [==============================] - 0s 6ms/step - loss: 0.5467 - accuracy: 0.7375 - lr: 0.2818\n",
            "Epoch 71/100\n",
            "3/3 [==============================] - 0s 6ms/step - loss: 0.5368 - accuracy: 0.7500 - lr: 0.3162\n",
            "Epoch 72/100\n",
            "3/3 [==============================] - 0s 6ms/step - loss: 0.4828 - accuracy: 0.7500 - lr: 0.3548\n",
            "Epoch 73/100\n",
            "3/3 [==============================] - 0s 6ms/step - loss: 0.5028 - accuracy: 0.7375 - lr: 0.3981\n",
            "Epoch 74/100\n",
            "3/3 [==============================] - 0s 5ms/step - loss: 0.8642 - accuracy: 0.6625 - lr: 0.4467\n",
            "Epoch 75/100\n",
            "3/3 [==============================] - 0s 6ms/step - loss: 0.7770 - accuracy: 0.5625 - lr: 0.5012\n",
            "Epoch 76/100\n",
            "3/3 [==============================] - 0s 7ms/step - loss: 0.7236 - accuracy: 0.5750 - lr: 0.5623\n",
            "Epoch 77/100\n",
            "3/3 [==============================] - 0s 6ms/step - loss: 0.6829 - accuracy: 0.5125 - lr: 0.6310\n",
            "Epoch 78/100\n",
            "3/3 [==============================] - 0s 7ms/step - loss: 0.6964 - accuracy: 0.4625 - lr: 0.7079\n",
            "Epoch 79/100\n",
            "3/3 [==============================] - 0s 6ms/step - loss: 0.6615 - accuracy: 0.6000 - lr: 0.7943\n",
            "Epoch 80/100\n",
            "3/3 [==============================] - 0s 8ms/step - loss: 0.6740 - accuracy: 0.6000 - lr: 0.8913\n",
            "Epoch 81/100\n",
            "3/3 [==============================] - 0s 6ms/step - loss: 0.6574 - accuracy: 0.5875 - lr: 1.0000\n",
            "Epoch 82/100\n",
            "3/3 [==============================] - 0s 7ms/step - loss: 0.7268 - accuracy: 0.5375 - lr: 1.1220\n",
            "Epoch 83/100\n",
            "3/3 [==============================] - 0s 7ms/step - loss: 0.6964 - accuracy: 0.4625 - lr: 1.2589\n",
            "Epoch 84/100\n",
            "3/3 [==============================] - 0s 7ms/step - loss: 0.7006 - accuracy: 0.4875 - lr: 1.4125\n",
            "Epoch 85/100\n",
            "3/3 [==============================] - 0s 7ms/step - loss: 0.6917 - accuracy: 0.5375 - lr: 1.5849\n",
            "Epoch 86/100\n",
            "3/3 [==============================] - 0s 7ms/step - loss: 0.7036 - accuracy: 0.4375 - lr: 1.7783\n",
            "Epoch 87/100\n",
            "3/3 [==============================] - 0s 7ms/step - loss: 0.7008 - accuracy: 0.5375 - lr: 1.9953\n",
            "Epoch 88/100\n",
            "3/3 [==============================] - 0s 7ms/step - loss: 0.7288 - accuracy: 0.4125 - lr: 2.2387\n",
            "Epoch 89/100\n",
            "3/3 [==============================] - 0s 7ms/step - loss: 0.6873 - accuracy: 0.5375 - lr: 2.5119\n",
            "Epoch 90/100\n",
            "3/3 [==============================] - 0s 5ms/step - loss: 0.8148 - accuracy: 0.5375 - lr: 2.8184\n",
            "Epoch 91/100\n",
            "3/3 [==============================] - 0s 7ms/step - loss: 0.8578 - accuracy: 0.4625 - lr: 3.1623\n",
            "Epoch 92/100\n",
            "3/3 [==============================] - 0s 8ms/step - loss: 0.7639 - accuracy: 0.5375 - lr: 3.5481\n",
            "Epoch 93/100\n",
            "3/3 [==============================] - 0s 7ms/step - loss: 0.8262 - accuracy: 0.4875 - lr: 3.9811\n",
            "Epoch 94/100\n",
            "3/3 [==============================] - 0s 7ms/step - loss: 0.7379 - accuracy: 0.4875 - lr: 4.4668\n",
            "Epoch 95/100\n",
            "3/3 [==============================] - 0s 7ms/step - loss: 0.7836 - accuracy: 0.5875 - lr: 5.0119\n",
            "Epoch 96/100\n",
            "3/3 [==============================] - 0s 6ms/step - loss: 0.9124 - accuracy: 0.5375 - lr: 5.6234\n",
            "Epoch 97/100\n",
            "3/3 [==============================] - 0s 6ms/step - loss: 1.1788 - accuracy: 0.5375 - lr: 6.3096\n",
            "Epoch 98/100\n",
            "3/3 [==============================] - 0s 7ms/step - loss: 1.5421 - accuracy: 0.4625 - lr: 7.0795\n",
            "Epoch 99/100\n",
            "3/3 [==============================] - 0s 7ms/step - loss: 1.0287 - accuracy: 0.5375 - lr: 7.9433\n",
            "Epoch 100/100\n",
            "3/3 [==============================] - 0s 8ms/step - loss: 0.8795 - accuracy: 0.3875 - lr: 8.9125\n"
          ]
        }
      ]
    },
    {
      "cell_type": "code",
      "source": [
        "#plot the history\n",
        "import pandas as pd\n",
        "import matplotlib.pyplot as plt\n",
        "pd.DataFrame(history.history).plot(figsize=(10,7),xlabel=\"epochs\")"
      ],
      "metadata": {
        "colab": {
          "base_uri": "https://localhost:8080/",
          "height": 459
        },
        "id": "44h5RVdrVo2j",
        "outputId": "bd2a7c52-7af3-4a1f-98dc-b22fd24a166d"
      },
      "execution_count": 4,
      "outputs": [
        {
          "output_type": "execute_result",
          "data": {
            "text/plain": [
              "<Axes: xlabel='epochs'>"
            ]
          },
          "metadata": {},
          "execution_count": 4
        },
        {
          "output_type": "display_data",
          "data": {
            "text/plain": [
              "<Figure size 720x504 with 1 Axes>"
            ],
            "image/png": "[encoded data removed]"
          },
          "metadata": {
            "needs_background": "light"
          }
        }
      ]
    },
    {
      "cell_type": "markdown",
      "source": [
        "The ideal learning rate is the value where the accuray increases faster or the loss value decreas fast. For a more clear understanding lets plot the cure of loss vs learning rate"
      ],
      "metadata": {
        "id": "ecN9TGhpV0rW"
      }
    },
    {
      "cell_type": "code",
      "source": [
        "#lr vs loss\n",
        "plt.figure(figsize=(10,7))\n",
        "plt.semilogx(history.history[\"lr\"],history.history[\"loss\"])\n",
        "plt.xlabel(\"Learning Rate\")\n",
        "plt.ylabel(\"Loss\")\n",
        "plt.title(\"Learning rate vs Loss\")"
      ],
      "metadata": {
        "colab": {
          "base_uri": "https://localhost:8080/",
          "height": 479
        },
        "id": "0_gcOMdgVveM",
        "outputId": "8ec87d2b-c7e5-4a76-b644-c1b03a247727"
      },
      "execution_count": 5,
      "outputs": [
        {
          "output_type": "execute_result",
          "data": {
            "text/plain": [
              "Text(0.5, 1.0, 'Learning rate vs Loss')"
            ]
          },
          "metadata": {},
          "execution_count": 5
        },
        {
          "output_type": "display_data",
          "data": {
            "text/plain": [
              "<Figure size 720x504 with 1 Axes>"
            ],
            "image/png": "[encoded data removed]"
          },
          "metadata": {
            "needs_background": "light"
          }
        }
      ]
    },
    {
      "cell_type": "markdown",
      "source": [
        "We could see that loss changes in faster rate when learning rate is between .01 to .1. So we can conclude that the ideal learning rate will be 0.01"
      ],
      "metadata": {
        "id": "Nnf6dYXhWEES"
      }
    }
  ]
}