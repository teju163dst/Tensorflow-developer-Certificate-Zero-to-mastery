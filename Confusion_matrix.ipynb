{
  "nbformat": 4,
  "nbformat_minor": 0,
  "metadata": {
    "colab": {
      "provenance": []
    },
    "kernelspec": {
      "name": "python3",
      "display_name": "Python 3"
    },
    "language_info": {
      "name": "python"
    },
    "gpuClass": "standard"
  },
  "cells": [
    {
      "cell_type": "markdown",
      "source": [
        "There are various factors that can be used to evaluate the performance of our model.\n",
        "Accuracy\n",
        "Precision\n",
        "F1 Score\n",
        "Recall\n",
        "Confusion matrix\n",
        "Classification report"
      ],
      "metadata": {
        "id": "rMGXKx7UWt_a"
      }
    },
    {
      "cell_type": "code",
      "source": [
        "#Lets create a quick toy dataset to play with.\n",
        "from sklearn.datasets import make_circles\n",
        "n_samples=100\n",
        "x,y=make_circles(n_samples,noise=0.03,random_state=42)\n",
        "#Split the dataset into traning and test\n",
        "from sklearn.model_selection import train_test_split\n",
        "X_train,X_test,y_train,y_test=train_test_split(x,y,test_size=0.2)\n",
        "\n",
        "#Model Creation\n",
        "import tensorflow as tf\n",
        "#set random seed\n",
        "tf.random.set_seed=42\n",
        "#Model\n",
        "model=tf.keras.Sequential([\n",
        "    tf.keras.layers.Dense(4,activation=\"relu\"),\n",
        "    tf.keras.layers.Dense(4,activation=\"relu\"),\n",
        "    tf.keras.layers.Dense(1,activation='sigmoid')\n",
        "])\n",
        "#Complite the model\n",
        "model.compile(loss=tf.keras.losses.BinaryCrossentropy(),\n",
        "              optimizer=tf.keras.optimizers.Adam(learning_rate=0.02),\n",
        "              metrics=[\"accuracy\"])\n",
        "\n",
        "#fit the model\n",
        "history=model.fit(X_train,y_train,epochs=500,verbose=0)"
      ],
      "metadata": {
        "id": "qslS9gNTXGna"
      },
      "execution_count": 1,
      "outputs": []
    },
    {
      "cell_type": "code",
      "source": [
        "#Check accuracy of the model\n",
        "loss,accuracy = model.evaluate(X_test,y_test)\n",
        "print(\"model accuracy:{}\".format(accuracy))\n",
        "print(\"model loss    :{}\".format(loss))"
      ],
      "metadata": {
        "colab": {
          "base_uri": "https://localhost:8080/"
        },
        "id": "V-DIfbwIXOH4",
        "outputId": "41b9e49e-54d3-4efc-bac2-4fbba6bc1c9f"
      },
      "execution_count": 2,
      "outputs": [
        {
          "output_type": "stream",
          "name": "stdout",
          "text": [
            "1/1 [==============================] - 0s 167ms/step - loss: 0.5456 - accuracy: 0.8000\n",
            "model accuracy:0.800000011920929\n",
            "model loss    :0.545573890209198\n"
          ]
        }
      ]
    },
    {
      "cell_type": "code",
      "source": [
        "from scipy.sparse.data import matrix\n",
        "from sklearn.metrics import confusion_matrix\n",
        "\n",
        " #lets use scikit learn confusion matrix function to build the confusion matrix\n",
        "y_pred= tf.round(model.predict(X_test))\n",
        "confusion_matrix(y_true=y_test,y_pred=(y_pred))"
      ],
      "metadata": {
        "colab": {
          "base_uri": "https://localhost:8080/"
        },
        "id": "r-0X9Et6XWre",
        "outputId": "1cf07468-3bb5-40a7-9fb3-c945cebb56e6"
      },
      "execution_count": 3,
      "outputs": [
        {
          "output_type": "stream",
          "name": "stdout",
          "text": [
            "1/1 [==============================] - 0s 100ms/step\n"
          ]
        },
        {
          "output_type": "stream",
          "name": "stderr",
          "text": [
            "<ipython-input-3-aa546d6834ba>:1: DeprecationWarning: Please use `matrix` from the `scipy.sparse` namespace, the `scipy.sparse.data` namespace is deprecated.\n",
            "  from scipy.sparse.data import matrix\n"
          ]
        },
        {
          "output_type": "execute_result",
          "data": {
            "text/plain": [
              "array([[ 3,  3],\n",
              "       [ 1, 13]])"
            ]
          },
          "metadata": {},
          "execution_count": 3
        }
      ]
    },
    {
      "cell_type": "code",
      "source": [
        "from prompt_toolkit.layout.containers import HorizontalAlign\n",
        "from pandas.core.dtypes.common import classes\n",
        "import itertools\n",
        "import numpy as np\n",
        "import matplotlib.pyplot as plt\n",
        "\n",
        "figsize =(10,10)\n",
        "cm=confusion_matrix(y_true=y_test,y_pred=y_pred)\n",
        "cm_norm=cm.astype(\"float\")/cm.sum(axis=1)[:,np.newaxis ] # normalise the condusion matrix\n",
        "n_classes = cm.shape[0]\n",
        "\n",
        "fig,ax= plt.subplots(figsize=figsize)\n",
        "cax=ax.matshow(cm,cmap=plt.cm.Blues)\n",
        "\n",
        "classes=False\n",
        "\n",
        "if classes:\n",
        "  labels=classes\n",
        "else:\n",
        "  labels=np.arange(cm.shape[0])\n",
        "\n",
        "#Lablel axex\n",
        "ax.set(title=\"Confusion Matrix\",\n",
        "       xlabel=\"Predicted Label\",\n",
        "       ylabel=\"True Label\",\n",
        "       xticks=np.arange(n_classes),\n",
        "       yticks=np.arange(n_classes),\n",
        "       xticklabels=labels,\n",
        "       yticklabels=labels)\n",
        "#set threshold for diffrent colors\n",
        "\n",
        "#Visulase the confusion matrix\n",
        "for i,j in itertools.product(range(cm.shape[0]),range(cm.shape[1])):\n",
        "  plt.text(j,i,f\"{cm[i,j]}({cm_norm[i,j]*100:1f}%)\",\n",
        "           horizontalalignment=\"center\",\n",
        "           color=\"black\")"
      ],
      "metadata": {
        "colab": {
          "base_uri": "https://localhost:8080/",
          "height": 625
        },
        "id": "4g2ie_vRXkeU",
        "outputId": "483024b6-83eb-4458-cc94-061e8aa79116"
      },
      "execution_count": 5,
      "outputs": [
        {
          "output_type": "display_data",
          "data": {
            "text/plain": [
              "<Figure size 720x720 with 1 Axes>"
            ],
            "image/png": "[encoded data removed]"
          },
          "metadata": {
            "needs_background": "light"
          }
        }
      ]
    }
  ]
}