{
  "nbformat": 4,
  "nbformat_minor": 0,
  "metadata": {
    "colab": {
      "provenance": []
    },
    "kernelspec": {
      "name": "python3",
      "display_name": "Python 3"
    },
    "language_info": {
      "name": "python"
    },
    "gpuClass": "standard"
  },
  "cells": [
    {
      "cell_type": "code",
      "execution_count": 1,
      "metadata": {
        "colab": {
          "base_uri": "https://localhost:8080/"
        },
        "id": "5UULfhE7rEX-",
        "outputId": "c9eff53d-3a21-4738-fbe5-c22a3c73efda"
      },
      "outputs": [
        {
          "output_type": "stream",
          "name": "stdout",
          "text": [
            "2.11.0\n"
          ]
        }
      ],
      "source": [
        "import tensorflow as tf\n",
        "print(tf.__version__)"
      ]
    },
    {
      "cell_type": "code",
      "source": [
        "#creating a dataset\n",
        "import numpy as np\n",
        "import matplotlib.pyplot as plt\n",
        "\n",
        "#Create features\n",
        "X=np.array([-7.0,-4.0,-1.0,2.0,5.0,8.0,11.0,14.0])\n",
        "y=np.array([3.0,6.0,9.0,12.0,15.0,18.0,21.0,24.0])"
      ],
      "metadata": {
        "id": "qaTtglV5rU7V"
      },
      "execution_count": 2,
      "outputs": []
    },
    {
      "cell_type": "code",
      "source": [
        "#Visulize\n",
        "plt.scatter(X,y)"
      ],
      "metadata": {
        "colab": {
          "base_uri": "https://localhost:8080/",
          "height": 286
        },
        "id": "w7kFe41KrW90",
        "outputId": "25a6c661-5f98-4cb1-8fc9-59474a191ecd"
      },
      "execution_count": 3,
      "outputs": [
        {
          "output_type": "execute_result",
          "data": {
            "text/plain": [
              "<matplotlib.collections.PathCollection at 0x7f75452108b0>"
            ]
          },
          "metadata": {},
          "execution_count": 3
        },
        {
          "output_type": "display_data",
          "data": {
            "text/plain": [
              "<Figure size 432x288 with 1 Axes>"
            ],
            "image/png": "[encoded data removed]"
          },
          "metadata": {
            "needs_background": "light"
          }
        }
      ]
    },
    {
      "cell_type": "code",
      "source": [
        "y==X+10 # this the realation between independent variable and dependent variable"
      ],
      "metadata": {
        "colab": {
          "base_uri": "https://localhost:8080/"
        },
        "id": "9KEkqY5yrbf9",
        "outputId": "9952a843-657b-4751-ed35-3701316f5648"
      },
      "execution_count": 4,
      "outputs": [
        {
          "output_type": "execute_result",
          "data": {
            "text/plain": [
              "array([ True,  True,  True,  True,  True,  True,  True,  True])"
            ]
          },
          "metadata": {},
          "execution_count": 4
        }
      ]
    },
    {
      "cell_type": "code",
      "source": [
        "#check dependent and independent variable\n",
        "inputshape=X.shape\n",
        "outputshape=y.shape\n",
        "inputshape,outputshape"
      ],
      "metadata": {
        "colab": {
          "base_uri": "https://localhost:8080/"
        },
        "id": "bj_r8s91rjwO",
        "outputId": "135d7ca0-7119-44e1-bf6c-1da4da8dc4da"
      },
      "execution_count": 5,
      "outputs": [
        {
          "output_type": "execute_result",
          "data": {
            "text/plain": [
              "((8,), (8,))"
            ]
          },
          "metadata": {},
          "execution_count": 5
        }
      ]
    },
    {
      "cell_type": "code",
      "source": [
        "#converting input and output to numbers\n",
        "X=tf.constant(X)\n",
        "y=tf.constant(y)\n",
        "inputshape=X[0].shape\n",
        "outputshape=y[0].shape\n",
        "inputshape,outputshape"
      ],
      "metadata": {
        "colab": {
          "base_uri": "https://localhost:8080/"
        },
        "id": "2C7I1F5jrnAU",
        "outputId": "c749ce4a-9a18-4cf5-e1ad-0b9190f0b7d8"
      },
      "execution_count": 6,
      "outputs": [
        {
          "output_type": "execute_result",
          "data": {
            "text/plain": [
              "(TensorShape([]), TensorShape([]))"
            ]
          },
          "metadata": {},
          "execution_count": 6
        }
      ]
    },
    {
      "cell_type": "code",
      "source": [
        "plt.scatter(X,y)"
      ],
      "metadata": {
        "colab": {
          "base_uri": "https://localhost:8080/",
          "height": 286
        },
        "id": "QItu9Sg7rzJq",
        "outputId": "6af104c5-dab5-4c46-d59a-d6709e264266"
      },
      "execution_count": 7,
      "outputs": [
        {
          "output_type": "execute_result",
          "data": {
            "text/plain": [
              "<matplotlib.collections.PathCollection at 0x7f753dc05ca0>"
            ]
          },
          "metadata": {},
          "execution_count": 7
        },
        {
          "output_type": "display_data",
          "data": {
            "text/plain": [
              "<Figure size 432x288 with 1 Axes>"
            ],
            "image/png": "[encoded data removed]"
          },
          "metadata": {
            "needs_background": "light"
          }
        }
      ]
    },
    {
      "cell_type": "code",
      "source": [
        "from tensorflow.python import metrics\n",
        "#set random seed\n",
        "tf.random.set_seed(42)\n",
        "#1.Create a model using sequential API\n",
        "model = tf.keras.Sequential([\n",
        "    tf.keras.layers.Dense(1),\n",
        "    ])\n",
        "#2.Compile the model\n",
        "model.compile(loss=tf.keras.losses.mae,optimizer=\"sgd\",metrics=[\"mae\"])\n",
        "\n",
        "#mae =mean(abs(y_true-y_pred),axis=1) tells us on average how wrong our preditions are\n",
        "#optimatiser=Optimizers are Classes or methods used to change the attributes of your machine/deep learning \n",
        "              #model such as weights and learning rate in order to reduce the losses. Optimizers help to get results faster\n",
        "#SGD - stochatisc  gradient descent \n",
        "#metric = metric is a function that is used to judge the performance of your model.\n",
        "          # Metric functions are similar to loss functions, except that the results from evaluating a metric are not used when training the model\n",
        "    \n",
        "\n",
        "#3.fit the model\n",
        "model.fit(tf.expand_dims(X,axis=-1),y,epochs=5)"
      ],
      "metadata": {
        "colab": {
          "base_uri": "https://localhost:8080/"
        },
        "id": "aKuKs1PMsMlA",
        "outputId": "9f0cacd9-9449-4de3-f907-fbeae3f28576"
      },
      "execution_count": 8,
      "outputs": [
        {
          "output_type": "stream",
          "name": "stdout",
          "text": [
            "Epoch 1/5\n",
            "1/1 [==============================] - 3s 3s/step - loss: 11.7694 - mae: 11.7694\n",
            "Epoch 2/5\n",
            "1/1 [==============================] - 0s 29ms/step - loss: 11.6369 - mae: 11.6369\n",
            "Epoch 3/5\n",
            "1/1 [==============================] - 0s 35ms/step - loss: 11.5044 - mae: 11.5044\n",
            "Epoch 4/5\n",
            "1/1 [==============================] - 0s 31ms/step - loss: 11.3719 - mae: 11.3719\n",
            "Epoch 5/5\n",
            "1/1 [==============================] - 0s 23ms/step - loss: 11.2394 - mae: 11.2394\n"
          ]
        },
        {
          "output_type": "execute_result",
          "data": {
            "text/plain": [
              "<keras.callbacks.History at 0x7f753da93130>"
            ]
          },
          "metadata": {},
          "execution_count": 8
        }
      ]
    },
    {
      "cell_type": "code",
      "source": [
        "tf.expand_dims(X,axis=-1)"
      ],
      "metadata": {
        "colab": {
          "base_uri": "https://localhost:8080/"
        },
        "id": "BtvD7eyzsRIP",
        "outputId": "e75f9051-11d7-44d8-aab2-c0f049a5d074"
      },
      "execution_count": 9,
      "outputs": [
        {
          "output_type": "execute_result",
          "data": {
            "text/plain": [
              "<tf.Tensor: shape=(8, 1), dtype=float64, numpy=\n",
              "array([[-7.],\n",
              "       [-4.],\n",
              "       [-1.],\n",
              "       [ 2.],\n",
              "       [ 5.],\n",
              "       [ 8.],\n",
              "       [11.],\n",
              "       [14.]])>"
            ]
          },
          "metadata": {},
          "execution_count": 9
        }
      ]
    },
    {
      "cell_type": "code",
      "source": [
        "#check  X and y\n",
        "X,y"
      ],
      "metadata": {
        "colab": {
          "base_uri": "https://localhost:8080/"
        },
        "id": "2o9fsENBsZEd",
        "outputId": "6476e645-33f2-4252-8c58-336c1716b3d6"
      },
      "execution_count": 10,
      "outputs": [
        {
          "output_type": "execute_result",
          "data": {
            "text/plain": [
              "(<tf.Tensor: shape=(8,), dtype=float64, numpy=array([-7., -4., -1.,  2.,  5.,  8., 11., 14.])>,\n",
              " <tf.Tensor: shape=(8,), dtype=float64, numpy=array([ 3.,  6.,  9., 12., 15., 18., 21., 24.])>)"
            ]
          },
          "metadata": {},
          "execution_count": 10
        }
      ]
    },
    {
      "cell_type": "code",
      "source": [
        "model.predict([17.0])"
      ],
      "metadata": {
        "colab": {
          "base_uri": "https://localhost:8080/"
        },
        "id": "L-SOO3WUseIt",
        "outputId": "99318ae3-caf6-4293-a5c2-b4f898fb9fd8"
      },
      "execution_count": 11,
      "outputs": [
        {
          "output_type": "stream",
          "name": "stdout",
          "text": [
            "1/1 [==============================] - 0s 293ms/step\n"
          ]
        },
        {
          "output_type": "execute_result",
          "data": {
            "text/plain": [
              "array([[11.430725]], dtype=float32)"
            ]
          },
          "metadata": {},
          "execution_count": 11
        }
      ]
    },
    {
      "cell_type": "code",
      "source": [
        "##improving the model\n",
        "#1. create the model \n",
        "model = tf.keras.Sequential([\n",
        "    tf.keras.layers.Dense(1)])\n",
        "#2.complie the model\n",
        "model.compile(loss=tf.keras.losses.mae,optimizer=\"sgd\",metrics=[\"mae\"])\n",
        "#fit the mode\n",
        "model.fit(tf.expand_dims(X,axis=-1),y,epochs=100)"
      ],
      "metadata": {
        "colab": {
          "base_uri": "https://localhost:8080/"
        },
        "id": "j5Awdmfcskej",
        "outputId": "c4a351c1-5a3e-4648-b991-4b24d151a029"
      },
      "execution_count": 12,
      "outputs": [
        {
          "output_type": "stream",
          "name": "stdout",
          "text": [
            "Epoch 1/100\n",
            "1/1 [==============================] - 0s 344ms/step - loss: 17.0564 - mae: 17.0564\n",
            "Epoch 2/100\n",
            "1/1 [==============================] - 0s 10ms/step - loss: 16.7751 - mae: 16.7751\n",
            "Epoch 3/100\n",
            "1/1 [==============================] - 0s 15ms/step - loss: 16.4939 - mae: 16.4939\n",
            "Epoch 4/100\n",
            "1/1 [==============================] - 0s 11ms/step - loss: 16.2126 - mae: 16.2126\n",
            "Epoch 5/100\n",
            "1/1 [==============================] - 0s 9ms/step - loss: 15.9314 - mae: 15.9314\n",
            "Epoch 6/100\n",
            "1/1 [==============================] - 0s 9ms/step - loss: 15.6501 - mae: 15.6501\n",
            "Epoch 7/100\n",
            "1/1 [==============================] - 0s 9ms/step - loss: 15.3689 - mae: 15.3689\n",
            "Epoch 8/100\n",
            "1/1 [==============================] - 0s 9ms/step - loss: 15.0876 - mae: 15.0876\n",
            "Epoch 9/100\n",
            "1/1 [==============================] - 0s 10ms/step - loss: 14.8409 - mae: 14.8409\n",
            "Epoch 10/100\n",
            "1/1 [==============================] - 0s 10ms/step - loss: 14.7084 - mae: 14.7084\n",
            "Epoch 11/100\n",
            "1/1 [==============================] - 0s 11ms/step - loss: 14.5759 - mae: 14.5759\n",
            "Epoch 12/100\n",
            "1/1 [==============================] - 0s 10ms/step - loss: 14.4434 - mae: 14.4434\n",
            "Epoch 13/100\n",
            "1/1 [==============================] - 0s 10ms/step - loss: 14.3109 - mae: 14.3109\n",
            "Epoch 14/100\n",
            "1/1 [==============================] - 0s 10ms/step - loss: 14.1784 - mae: 14.1784\n",
            "Epoch 15/100\n",
            "1/1 [==============================] - 0s 10ms/step - loss: 14.0459 - mae: 14.0459\n",
            "Epoch 16/100\n",
            "1/1 [==============================] - 0s 11ms/step - loss: 13.9134 - mae: 13.9134\n",
            "Epoch 17/100\n",
            "1/1 [==============================] - 0s 13ms/step - loss: 13.7809 - mae: 13.7809\n",
            "Epoch 18/100\n",
            "1/1 [==============================] - 0s 11ms/step - loss: 13.6484 - mae: 13.6484\n",
            "Epoch 19/100\n",
            "1/1 [==============================] - 0s 11ms/step - loss: 13.5159 - mae: 13.5159\n",
            "Epoch 20/100\n",
            "1/1 [==============================] - 0s 11ms/step - loss: 13.3834 - mae: 13.3834\n",
            "Epoch 21/100\n",
            "1/1 [==============================] - 0s 11ms/step - loss: 13.2509 - mae: 13.2509\n",
            "Epoch 22/100\n",
            "1/1 [==============================] - 0s 11ms/step - loss: 13.1184 - mae: 13.1184\n",
            "Epoch 23/100\n",
            "1/1 [==============================] - 0s 10ms/step - loss: 12.9859 - mae: 12.9859\n",
            "Epoch 24/100\n",
            "1/1 [==============================] - 0s 11ms/step - loss: 12.8534 - mae: 12.8534\n",
            "Epoch 25/100\n",
            "1/1 [==============================] - 0s 10ms/step - loss: 12.7209 - mae: 12.7209\n",
            "Epoch 26/100\n",
            "1/1 [==============================] - 0s 10ms/step - loss: 12.5884 - mae: 12.5884\n",
            "Epoch 27/100\n",
            "1/1 [==============================] - 0s 12ms/step - loss: 12.4559 - mae: 12.4559\n",
            "Epoch 28/100\n",
            "1/1 [==============================] - 0s 9ms/step - loss: 12.3234 - mae: 12.3234\n",
            "Epoch 29/100\n",
            "1/1 [==============================] - 0s 9ms/step - loss: 12.1909 - mae: 12.1909\n",
            "Epoch 30/100\n",
            "1/1 [==============================] - 0s 14ms/step - loss: 12.0584 - mae: 12.0584\n",
            "Epoch 31/100\n",
            "1/1 [==============================] - 0s 10ms/step - loss: 11.9259 - mae: 11.9259\n",
            "Epoch 32/100\n",
            "1/1 [==============================] - 0s 10ms/step - loss: 11.7934 - mae: 11.7934\n",
            "Epoch 33/100\n",
            "1/1 [==============================] - 0s 10ms/step - loss: 11.6609 - mae: 11.6609\n",
            "Epoch 34/100\n",
            "1/1 [==============================] - 0s 10ms/step - loss: 11.5284 - mae: 11.5284\n",
            "Epoch 35/100\n",
            "1/1 [==============================] - 0s 10ms/step - loss: 11.3959 - mae: 11.3959\n",
            "Epoch 36/100\n",
            "1/1 [==============================] - 0s 10ms/step - loss: 11.2634 - mae: 11.2634\n",
            "Epoch 37/100\n",
            "1/1 [==============================] - 0s 13ms/step - loss: 11.1309 - mae: 11.1309\n",
            "Epoch 38/100\n",
            "1/1 [==============================] - 0s 13ms/step - loss: 10.9984 - mae: 10.9984\n",
            "Epoch 39/100\n",
            "1/1 [==============================] - 0s 10ms/step - loss: 10.8659 - mae: 10.8659\n",
            "Epoch 40/100\n",
            "1/1 [==============================] - 0s 13ms/step - loss: 10.7334 - mae: 10.7334\n",
            "Epoch 41/100\n",
            "1/1 [==============================] - 0s 14ms/step - loss: 10.6009 - mae: 10.6009\n",
            "Epoch 42/100\n",
            "1/1 [==============================] - 0s 13ms/step - loss: 10.4684 - mae: 10.4684\n",
            "Epoch 43/100\n",
            "1/1 [==============================] - 0s 22ms/step - loss: 10.3359 - mae: 10.3359\n",
            "Epoch 44/100\n",
            "1/1 [==============================] - 0s 14ms/step - loss: 10.2034 - mae: 10.2034\n",
            "Epoch 45/100\n",
            "1/1 [==============================] - 0s 14ms/step - loss: 10.0709 - mae: 10.0709\n",
            "Epoch 46/100\n",
            "1/1 [==============================] - 0s 16ms/step - loss: 9.9384 - mae: 9.9384\n",
            "Epoch 47/100\n",
            "1/1 [==============================] - 0s 18ms/step - loss: 9.8059 - mae: 9.8059\n",
            "Epoch 48/100\n",
            "1/1 [==============================] - 0s 13ms/step - loss: 9.6734 - mae: 9.6734\n",
            "Epoch 49/100\n",
            "1/1 [==============================] - 0s 11ms/step - loss: 9.5409 - mae: 9.5409\n",
            "Epoch 50/100\n",
            "1/1 [==============================] - 0s 11ms/step - loss: 9.4084 - mae: 9.4084\n",
            "Epoch 51/100\n",
            "1/1 [==============================] - 0s 12ms/step - loss: 9.2759 - mae: 9.2759\n",
            "Epoch 52/100\n",
            "1/1 [==============================] - 0s 12ms/step - loss: 9.1434 - mae: 9.1434\n",
            "Epoch 53/100\n",
            "1/1 [==============================] - 0s 14ms/step - loss: 9.0109 - mae: 9.0109\n",
            "Epoch 54/100\n",
            "1/1 [==============================] - 0s 14ms/step - loss: 8.8784 - mae: 8.8784\n",
            "Epoch 55/100\n",
            "1/1 [==============================] - 0s 11ms/step - loss: 8.7459 - mae: 8.7459\n",
            "Epoch 56/100\n",
            "1/1 [==============================] - 0s 12ms/step - loss: 8.6134 - mae: 8.6134\n",
            "Epoch 57/100\n",
            "1/1 [==============================] - 0s 12ms/step - loss: 8.4809 - mae: 8.4809\n",
            "Epoch 58/100\n",
            "1/1 [==============================] - 0s 11ms/step - loss: 8.3484 - mae: 8.3484\n",
            "Epoch 59/100\n",
            "1/1 [==============================] - 0s 11ms/step - loss: 8.2159 - mae: 8.2159\n",
            "Epoch 60/100\n",
            "1/1 [==============================] - 0s 12ms/step - loss: 8.0834 - mae: 8.0834\n",
            "Epoch 61/100\n",
            "1/1 [==============================] - 0s 12ms/step - loss: 7.9509 - mae: 7.9509\n",
            "Epoch 62/100\n",
            "1/1 [==============================] - 0s 12ms/step - loss: 7.8184 - mae: 7.8184\n",
            "Epoch 63/100\n",
            "1/1 [==============================] - 0s 12ms/step - loss: 7.6859 - mae: 7.6859\n",
            "Epoch 64/100\n",
            "1/1 [==============================] - 0s 15ms/step - loss: 7.5534 - mae: 7.5534\n",
            "Epoch 65/100\n",
            "1/1 [==============================] - 0s 20ms/step - loss: 7.4209 - mae: 7.4209\n",
            "Epoch 66/100\n",
            "1/1 [==============================] - 0s 15ms/step - loss: 7.2884 - mae: 7.2884\n",
            "Epoch 67/100\n",
            "1/1 [==============================] - 0s 16ms/step - loss: 7.1559 - mae: 7.1559\n",
            "Epoch 68/100\n",
            "1/1 [==============================] - 0s 14ms/step - loss: 7.0234 - mae: 7.0234\n",
            "Epoch 69/100\n",
            "1/1 [==============================] - 0s 13ms/step - loss: 7.0050 - mae: 7.0050\n",
            "Epoch 70/100\n",
            "1/1 [==============================] - 0s 16ms/step - loss: 6.9994 - mae: 6.9994\n",
            "Epoch 71/100\n",
            "1/1 [==============================] - 0s 17ms/step - loss: 6.9937 - mae: 6.9937\n",
            "Epoch 72/100\n",
            "1/1 [==============================] - 0s 16ms/step - loss: 6.9881 - mae: 6.9881\n",
            "Epoch 73/100\n",
            "1/1 [==============================] - 0s 15ms/step - loss: 6.9825 - mae: 6.9825\n",
            "Epoch 74/100\n",
            "1/1 [==============================] - 0s 12ms/step - loss: 6.9769 - mae: 6.9769\n",
            "Epoch 75/100\n",
            "1/1 [==============================] - 0s 12ms/step - loss: 6.9713 - mae: 6.9713\n",
            "Epoch 76/100\n",
            "1/1 [==============================] - 0s 12ms/step - loss: 6.9656 - mae: 6.9656\n",
            "Epoch 77/100\n",
            "1/1 [==============================] - 0s 14ms/step - loss: 6.9600 - mae: 6.9600\n",
            "Epoch 78/100\n",
            "1/1 [==============================] - 0s 11ms/step - loss: 6.9544 - mae: 6.9544\n",
            "Epoch 79/100\n",
            "1/1 [==============================] - 0s 13ms/step - loss: 6.9488 - mae: 6.9488\n",
            "Epoch 80/100\n",
            "1/1 [==============================] - 0s 13ms/step - loss: 6.9431 - mae: 6.9431\n",
            "Epoch 81/100\n",
            "1/1 [==============================] - 0s 13ms/step - loss: 6.9375 - mae: 6.9375\n",
            "Epoch 82/100\n",
            "1/1 [==============================] - 0s 13ms/step - loss: 6.9319 - mae: 6.9319\n",
            "Epoch 83/100\n",
            "1/1 [==============================] - 0s 12ms/step - loss: 6.9263 - mae: 6.9263\n",
            "Epoch 84/100\n",
            "1/1 [==============================] - 0s 13ms/step - loss: 6.9206 - mae: 6.9206\n",
            "Epoch 85/100\n",
            "1/1 [==============================] - 0s 13ms/step - loss: 6.9150 - mae: 6.9150\n",
            "Epoch 86/100\n",
            "1/1 [==============================] - 0s 12ms/step - loss: 6.9094 - mae: 6.9094\n",
            "Epoch 87/100\n",
            "1/1 [==============================] - 0s 13ms/step - loss: 6.9038 - mae: 6.9038\n",
            "Epoch 88/100\n",
            "1/1 [==============================] - 0s 11ms/step - loss: 6.8981 - mae: 6.8981\n",
            "Epoch 89/100\n",
            "1/1 [==============================] - 0s 12ms/step - loss: 6.8925 - mae: 6.8925\n",
            "Epoch 90/100\n",
            "1/1 [==============================] - 0s 12ms/step - loss: 6.8869 - mae: 6.8869\n",
            "Epoch 91/100\n",
            "1/1 [==============================] - 0s 16ms/step - loss: 6.8813 - mae: 6.8813\n",
            "Epoch 92/100\n",
            "1/1 [==============================] - 0s 15ms/step - loss: 6.8756 - mae: 6.8756\n",
            "Epoch 93/100\n",
            "1/1 [==============================] - 0s 12ms/step - loss: 6.8700 - mae: 6.8700\n",
            "Epoch 94/100\n",
            "1/1 [==============================] - 0s 10ms/step - loss: 6.8644 - mae: 6.8644\n",
            "Epoch 95/100\n",
            "1/1 [==============================] - 0s 10ms/step - loss: 6.8588 - mae: 6.8588\n",
            "Epoch 96/100\n",
            "1/1 [==============================] - 0s 13ms/step - loss: 6.8531 - mae: 6.8531\n",
            "Epoch 97/100\n",
            "1/1 [==============================] - 0s 11ms/step - loss: 6.8475 - mae: 6.8475\n",
            "Epoch 98/100\n",
            "1/1 [==============================] - 0s 9ms/step - loss: 6.8419 - mae: 6.8419\n",
            "Epoch 99/100\n",
            "1/1 [==============================] - 0s 10ms/step - loss: 6.8363 - mae: 6.8363\n",
            "Epoch 100/100\n",
            "1/1 [==============================] - 0s 9ms/step - loss: 6.8306 - mae: 6.8306\n"
          ]
        },
        {
          "output_type": "execute_result",
          "data": {
            "text/plain": [
              "<keras.callbacks.History at 0x7f753e40f9d0>"
            ]
          },
          "metadata": {},
          "execution_count": 12
        }
      ]
    },
    {
      "cell_type": "code",
      "source": [
        "model.predict([17])"
      ],
      "metadata": {
        "colab": {
          "base_uri": "https://localhost:8080/"
        },
        "id": "TVLj-0ApsyKe",
        "outputId": "e23891c0-a0e4-43c9-a2fd-4c3fc71add94"
      },
      "execution_count": 13,
      "outputs": [
        {
          "output_type": "stream",
          "name": "stdout",
          "text": [
            "1/1 [==============================] - 0s 73ms/step\n"
          ]
        },
        {
          "output_type": "execute_result",
          "data": {
            "text/plain": [
              "array([[29.79555]], dtype=float32)"
            ]
          },
          "metadata": {},
          "execution_count": 13
        }
      ]
    },
    {
      "cell_type": "code",
      "source": [
        "#adding more layers\n",
        "model= tf.keras.Sequential(\n",
        "    [tf.keras.layers.Dense(100,activation=\"relu\"),\n",
        "     tf.keras.layers.Dense(1)]\n",
        ")\n",
        "model.compile(loss=tf.keras.losses.mae,optimizer=\"sgd\",metrics=[\"mae\"])\n",
        "model.fit(tf.expand_dims(X,axis=1),y,epochs=100)"
      ],
      "metadata": {
        "colab": {
          "base_uri": "https://localhost:8080/"
        },
        "id": "GJ5-Ubwjs4Zn",
        "outputId": "8086c4ef-eba5-463d-901e-c0d8990d2ca3"
      },
      "execution_count": 14,
      "outputs": [
        {
          "output_type": "stream",
          "name": "stdout",
          "text": [
            "Epoch 1/100\n",
            "1/1 [==============================] - 1s 557ms/step - loss: 12.8732 - mae: 12.8732\n",
            "Epoch 2/100\n",
            "1/1 [==============================] - 0s 16ms/step - loss: 12.4391 - mae: 12.4391\n",
            "Epoch 3/100\n",
            "1/1 [==============================] - 0s 19ms/step - loss: 11.9996 - mae: 11.9996\n",
            "Epoch 4/100\n",
            "1/1 [==============================] - 0s 13ms/step - loss: 11.5599 - mae: 11.5599\n",
            "Epoch 5/100\n",
            "1/1 [==============================] - 0s 12ms/step - loss: 11.1047 - mae: 11.1047\n",
            "Epoch 6/100\n",
            "1/1 [==============================] - 0s 11ms/step - loss: 10.6293 - mae: 10.6293\n",
            "Epoch 7/100\n",
            "1/1 [==============================] - 0s 13ms/step - loss: 10.1314 - mae: 10.1314\n",
            "Epoch 8/100\n",
            "1/1 [==============================] - 0s 13ms/step - loss: 9.6080 - mae: 9.6080\n",
            "Epoch 9/100\n",
            "1/1 [==============================] - 0s 13ms/step - loss: 9.0525 - mae: 9.0525\n",
            "Epoch 10/100\n",
            "1/1 [==============================] - 0s 11ms/step - loss: 8.4583 - mae: 8.4583\n",
            "Epoch 11/100\n",
            "1/1 [==============================] - 0s 12ms/step - loss: 7.8252 - mae: 7.8252\n",
            "Epoch 12/100\n",
            "1/1 [==============================] - 0s 12ms/step - loss: 7.2010 - mae: 7.2010\n",
            "Epoch 13/100\n",
            "1/1 [==============================] - 0s 14ms/step - loss: 6.5221 - mae: 6.5221\n",
            "Epoch 14/100\n",
            "1/1 [==============================] - 0s 13ms/step - loss: 5.7834 - mae: 5.7834\n",
            "Epoch 15/100\n",
            "1/1 [==============================] - 0s 15ms/step - loss: 4.9777 - mae: 4.9777\n",
            "Epoch 16/100\n",
            "1/1 [==============================] - 0s 13ms/step - loss: 4.1629 - mae: 4.1629\n",
            "Epoch 17/100\n",
            "1/1 [==============================] - 0s 12ms/step - loss: 4.0717 - mae: 4.0717\n",
            "Epoch 18/100\n",
            "1/1 [==============================] - 0s 15ms/step - loss: 3.9781 - mae: 3.9781\n",
            "Epoch 19/100\n",
            "1/1 [==============================] - 0s 13ms/step - loss: 3.8984 - mae: 3.8984\n",
            "Epoch 20/100\n",
            "1/1 [==============================] - 0s 13ms/step - loss: 3.9620 - mae: 3.9620\n",
            "Epoch 21/100\n",
            "1/1 [==============================] - 0s 15ms/step - loss: 3.9120 - mae: 3.9120\n",
            "Epoch 22/100\n",
            "1/1 [==============================] - 0s 16ms/step - loss: 3.9370 - mae: 3.9370\n",
            "Epoch 23/100\n",
            "1/1 [==============================] - 0s 20ms/step - loss: 3.9180 - mae: 3.9180\n",
            "Epoch 24/100\n",
            "1/1 [==============================] - 0s 16ms/step - loss: 3.9120 - mae: 3.9120\n",
            "Epoch 25/100\n",
            "1/1 [==============================] - 0s 17ms/step - loss: 3.9241 - mae: 3.9241\n",
            "Epoch 26/100\n",
            "1/1 [==============================] - 0s 22ms/step - loss: 3.8868 - mae: 3.8868\n",
            "Epoch 27/100\n",
            "1/1 [==============================] - 0s 14ms/step - loss: 3.9306 - mae: 3.9306\n",
            "Epoch 28/100\n",
            "1/1 [==============================] - 0s 15ms/step - loss: 3.8737 - mae: 3.8737\n",
            "Epoch 29/100\n",
            "1/1 [==============================] - 0s 21ms/step - loss: 3.9411 - mae: 3.9411\n",
            "Epoch 30/100\n",
            "1/1 [==============================] - 0s 16ms/step - loss: 3.8798 - mae: 3.8798\n",
            "Epoch 31/100\n",
            "1/1 [==============================] - 0s 17ms/step - loss: 3.9158 - mae: 3.9158\n",
            "Epoch 32/100\n",
            "1/1 [==============================] - 0s 14ms/step - loss: 3.8862 - mae: 3.8862\n",
            "Epoch 33/100\n",
            "1/1 [==============================] - 0s 18ms/step - loss: 3.8904 - mae: 3.8904\n",
            "Epoch 34/100\n",
            "1/1 [==============================] - 0s 15ms/step - loss: 3.8927 - mae: 3.8927\n",
            "Epoch 35/100\n",
            "1/1 [==============================] - 0s 16ms/step - loss: 3.8650 - mae: 3.8650\n",
            "Epoch 36/100\n",
            "1/1 [==============================] - 0s 14ms/step - loss: 3.9069 - mae: 3.9069\n",
            "Epoch 37/100\n",
            "1/1 [==============================] - 0s 14ms/step - loss: 3.8476 - mae: 3.8476\n",
            "Epoch 38/100\n",
            "1/1 [==============================] - 0s 13ms/step - loss: 3.9149 - mae: 3.9149\n",
            "Epoch 39/100\n",
            "1/1 [==============================] - 0s 15ms/step - loss: 3.8492 - mae: 3.8492\n",
            "Epoch 40/100\n",
            "1/1 [==============================] - 0s 13ms/step - loss: 3.8930 - mae: 3.8930\n",
            "Epoch 41/100\n",
            "1/1 [==============================] - 0s 12ms/step - loss: 3.8559 - mae: 3.8559\n",
            "Epoch 42/100\n",
            "1/1 [==============================] - 0s 12ms/step - loss: 3.8673 - mae: 3.8673\n",
            "Epoch 43/100\n",
            "1/1 [==============================] - 0s 13ms/step - loss: 3.8626 - mae: 3.8626\n",
            "Epoch 44/100\n",
            "1/1 [==============================] - 0s 13ms/step - loss: 3.8484 - mae: 3.8484\n",
            "Epoch 45/100\n",
            "1/1 [==============================] - 0s 13ms/step - loss: 3.8784 - mae: 3.8784\n",
            "Epoch 46/100\n",
            "1/1 [==============================] - 0s 12ms/step - loss: 3.8238 - mae: 3.8238\n",
            "Epoch 47/100\n",
            "1/1 [==============================] - 0s 13ms/step - loss: 3.8853 - mae: 3.8853\n",
            "Epoch 48/100\n",
            "1/1 [==============================] - 0s 14ms/step - loss: 3.8200 - mae: 3.8200\n",
            "Epoch 49/100\n",
            "1/1 [==============================] - 0s 13ms/step - loss: 3.8687 - mae: 3.8687\n",
            "Epoch 50/100\n",
            "1/1 [==============================] - 0s 14ms/step - loss: 3.8270 - mae: 3.8270\n",
            "Epoch 51/100\n",
            "1/1 [==============================] - 0s 14ms/step - loss: 3.8425 - mae: 3.8425\n",
            "Epoch 52/100\n",
            "1/1 [==============================] - 0s 12ms/step - loss: 3.8393 - mae: 3.8393\n",
            "Epoch 53/100\n",
            "1/1 [==============================] - 0s 12ms/step - loss: 3.8247 - mae: 3.8247\n",
            "Epoch 54/100\n",
            "1/1 [==============================] - 0s 12ms/step - loss: 3.8499 - mae: 3.8499\n",
            "Epoch 55/100\n",
            "1/1 [==============================] - 0s 13ms/step - loss: 3.7983 - mae: 3.7983\n",
            "Epoch 56/100\n",
            "1/1 [==============================] - 0s 14ms/step - loss: 3.8570 - mae: 3.8570\n",
            "Epoch 57/100\n",
            "1/1 [==============================] - 0s 12ms/step - loss: 3.7922 - mae: 3.7922\n",
            "Epoch 58/100\n",
            "1/1 [==============================] - 0s 12ms/step - loss: 3.8429 - mae: 3.8429\n",
            "Epoch 59/100\n",
            "1/1 [==============================] - 0s 13ms/step - loss: 3.7993 - mae: 3.7993\n",
            "Epoch 60/100\n",
            "1/1 [==============================] - 0s 14ms/step - loss: 3.8207 - mae: 3.8207\n",
            "Epoch 61/100\n",
            "1/1 [==============================] - 0s 13ms/step - loss: 3.8154 - mae: 3.8154\n",
            "Epoch 62/100\n",
            "1/1 [==============================] - 0s 13ms/step - loss: 3.7983 - mae: 3.7983\n",
            "Epoch 63/100\n",
            "1/1 [==============================] - 0s 13ms/step - loss: 3.8226 - mae: 3.8226\n",
            "Epoch 64/100\n",
            "1/1 [==============================] - 0s 12ms/step - loss: 3.7716 - mae: 3.7716\n",
            "Epoch 65/100\n",
            "1/1 [==============================] - 0s 12ms/step - loss: 3.8299 - mae: 3.8299\n",
            "Epoch 66/100\n",
            "1/1 [==============================] - 0s 12ms/step - loss: 3.7653 - mae: 3.7653\n",
            "Epoch 67/100\n",
            "1/1 [==============================] - 0s 13ms/step - loss: 3.8158 - mae: 3.8158\n",
            "Epoch 68/100\n",
            "1/1 [==============================] - 0s 15ms/step - loss: 3.7751 - mae: 3.7751\n",
            "Epoch 69/100\n",
            "1/1 [==============================] - 0s 13ms/step - loss: 3.7973 - mae: 3.7973\n",
            "Epoch 70/100\n",
            "1/1 [==============================] - 0s 13ms/step - loss: 3.7889 - mae: 3.7889\n",
            "Epoch 71/100\n",
            "1/1 [==============================] - 0s 12ms/step - loss: 3.7705 - mae: 3.7705\n",
            "Epoch 72/100\n",
            "1/1 [==============================] - 0s 12ms/step - loss: 3.7963 - mae: 3.7963\n",
            "Epoch 73/100\n",
            "1/1 [==============================] - 0s 12ms/step - loss: 3.7436 - mae: 3.7436\n",
            "Epoch 74/100\n",
            "1/1 [==============================] - 0s 16ms/step - loss: 3.8038 - mae: 3.8038\n",
            "Epoch 75/100\n",
            "1/1 [==============================] - 0s 12ms/step - loss: 3.7396 - mae: 3.7396\n",
            "Epoch 76/100\n",
            "1/1 [==============================] - 0s 13ms/step - loss: 3.7886 - mae: 3.7886\n",
            "Epoch 77/100\n",
            "1/1 [==============================] - 0s 17ms/step - loss: 3.7559 - mae: 3.7559\n",
            "Epoch 78/100\n",
            "1/1 [==============================] - 0s 13ms/step - loss: 3.7685 - mae: 3.7685\n",
            "Epoch 79/100\n",
            "1/1 [==============================] - 0s 14ms/step - loss: 3.7635 - mae: 3.7635\n",
            "Epoch 80/100\n",
            "1/1 [==============================] - 0s 14ms/step - loss: 3.7413 - mae: 3.7413\n",
            "Epoch 81/100\n",
            "1/1 [==============================] - 0s 14ms/step - loss: 3.7712 - mae: 3.7712\n",
            "Epoch 82/100\n",
            "1/1 [==============================] - 0s 12ms/step - loss: 3.7140 - mae: 3.7140\n",
            "Epoch 83/100\n",
            "1/1 [==============================] - 0s 13ms/step - loss: 3.7790 - mae: 3.7790\n",
            "Epoch 84/100\n",
            "1/1 [==============================] - 0s 12ms/step - loss: 3.7150 - mae: 3.7150\n",
            "Epoch 85/100\n",
            "1/1 [==============================] - 0s 12ms/step - loss: 3.7654 - mae: 3.7654\n",
            "Epoch 86/100\n",
            "1/1 [==============================] - 0s 13ms/step - loss: 3.7315 - mae: 3.7315\n",
            "Epoch 87/100\n",
            "1/1 [==============================] - 0s 13ms/step - loss: 3.7383 - mae: 3.7383\n",
            "Epoch 88/100\n",
            "1/1 [==============================] - 0s 13ms/step - loss: 3.7393 - mae: 3.7393\n",
            "Epoch 89/100\n",
            "1/1 [==============================] - 0s 12ms/step - loss: 3.7109 - mae: 3.7109\n",
            "Epoch 90/100\n",
            "1/1 [==============================] - 0s 14ms/step - loss: 3.7470 - mae: 3.7470\n",
            "Epoch 91/100\n",
            "1/1 [==============================] - 0s 18ms/step - loss: 3.6836 - mae: 3.6836\n",
            "Epoch 92/100\n",
            "1/1 [==============================] - 0s 13ms/step - loss: 3.7538 - mae: 3.7538\n",
            "Epoch 93/100\n",
            "1/1 [==============================] - 0s 14ms/step - loss: 3.6972 - mae: 3.6972\n",
            "Epoch 94/100\n",
            "1/1 [==============================] - 0s 16ms/step - loss: 3.7345 - mae: 3.7345\n",
            "Epoch 95/100\n",
            "1/1 [==============================] - 0s 13ms/step - loss: 3.7081 - mae: 3.7081\n",
            "Epoch 96/100\n",
            "1/1 [==============================] - 0s 12ms/step - loss: 3.7067 - mae: 3.7067\n",
            "Epoch 97/100\n",
            "1/1 [==============================] - 0s 13ms/step - loss: 3.7160 - mae: 3.7160\n",
            "Epoch 98/100\n",
            "1/1 [==============================] - 0s 12ms/step - loss: 3.6790 - mae: 3.6790\n",
            "Epoch 99/100\n",
            "1/1 [==============================] - 0s 11ms/step - loss: 3.7241 - mae: 3.7241\n",
            "Epoch 100/100\n",
            "1/1 [==============================] - 0s 13ms/step - loss: 3.6608 - mae: 3.6608\n"
          ]
        },
        {
          "output_type": "execute_result",
          "data": {
            "text/plain": [
              "<keras.callbacks.History at 0x7f753e33cac0>"
            ]
          },
          "metadata": {},
          "execution_count": 14
        }
      ]
    },
    {
      "cell_type": "code",
      "source": [
        "model.predict([17])"
      ],
      "metadata": {
        "colab": {
          "base_uri": "https://localhost:8080/"
        },
        "id": "uHn0ZPP3s-33",
        "outputId": "02996da6-de79-4c2c-8d48-8b43574925fc"
      },
      "execution_count": 15,
      "outputs": [
        {
          "output_type": "stream",
          "name": "stdout",
          "text": [
            "1/1 [==============================] - 0s 94ms/step\n"
          ]
        },
        {
          "output_type": "execute_result",
          "data": {
            "text/plain": [
              "array([[31.165205]], dtype=float32)"
            ]
          },
          "metadata": {},
          "execution_count": 15
        }
      ]
    },
    {
      "cell_type": "code",
      "source": [
        "#adding more layers\n",
        "model= tf.keras.Sequential(\n",
        "    [tf.keras.layers.Dense(500,activation=\"relu\"),\n",
        "     tf.keras.layers.Dense(1)]\n",
        ")\n",
        "model.compile(loss=tf.keras.losses.mae,optimizer=tf.keras.optimizers.Adam(lr=0.01),metrics=[\"mae\"])\n",
        "model.fit(tf.expand_dims(X,axis=1),y,epochs=100)"
      ],
      "metadata": {
        "colab": {
          "base_uri": "https://localhost:8080/"
        },
        "id": "8KYWHMx_tEyX",
        "outputId": "8204c2ef-accc-40e5-ff25-722abd834d88"
      },
      "execution_count": 18,
      "outputs": [
        {
          "output_type": "stream",
          "name": "stderr",
          "text": [
            "WARNING:absl:`lr` is deprecated, please use `learning_rate` instead, or use the legacy optimizer, e.g.,tf.keras.optimizers.legacy.Adam.\n"
          ]
        },
        {
          "output_type": "stream",
          "name": "stdout",
          "text": [
            "Epoch 1/100\n",
            "1/1 [==============================] - 1s 613ms/step - loss: 13.5477 - mae: 13.5477\n",
            "Epoch 2/100\n",
            "1/1 [==============================] - 0s 10ms/step - loss: 13.3479 - mae: 13.3479\n",
            "Epoch 3/100\n",
            "1/1 [==============================] - 0s 15ms/step - loss: 13.1489 - mae: 13.1489\n",
            "Epoch 4/100\n",
            "1/1 [==============================] - 0s 12ms/step - loss: 12.9497 - mae: 12.9497\n",
            "Epoch 5/100\n",
            "1/1 [==============================] - 0s 9ms/step - loss: 12.7509 - mae: 12.7509\n",
            "Epoch 6/100\n",
            "1/1 [==============================] - 0s 10ms/step - loss: 12.5524 - mae: 12.5524\n",
            "Epoch 7/100\n",
            "1/1 [==============================] - 0s 9ms/step - loss: 12.3540 - mae: 12.3540\n",
            "Epoch 8/100\n",
            "1/1 [==============================] - 0s 14ms/step - loss: 12.1555 - mae: 12.1555\n",
            "Epoch 9/100\n",
            "1/1 [==============================] - 0s 13ms/step - loss: 11.9574 - mae: 11.9574\n",
            "Epoch 10/100\n",
            "1/1 [==============================] - 0s 16ms/step - loss: 11.7589 - mae: 11.7589\n",
            "Epoch 11/100\n",
            "1/1 [==============================] - 0s 11ms/step - loss: 11.5604 - mae: 11.5604\n",
            "Epoch 12/100\n",
            "1/1 [==============================] - 0s 13ms/step - loss: 11.3621 - mae: 11.3621\n",
            "Epoch 13/100\n",
            "1/1 [==============================] - 0s 11ms/step - loss: 11.1634 - mae: 11.1634\n",
            "Epoch 14/100\n",
            "1/1 [==============================] - 0s 11ms/step - loss: 10.9645 - mae: 10.9645\n",
            "Epoch 15/100\n",
            "1/1 [==============================] - 0s 13ms/step - loss: 10.7871 - mae: 10.7871\n",
            "Epoch 16/100\n",
            "1/1 [==============================] - 0s 12ms/step - loss: 10.6372 - mae: 10.6372\n",
            "Epoch 17/100\n",
            "1/1 [==============================] - 0s 11ms/step - loss: 10.4860 - mae: 10.4860\n",
            "Epoch 18/100\n",
            "1/1 [==============================] - 0s 13ms/step - loss: 10.3336 - mae: 10.3336\n",
            "Epoch 19/100\n",
            "1/1 [==============================] - 0s 11ms/step - loss: 10.1799 - mae: 10.1799\n",
            "Epoch 20/100\n",
            "1/1 [==============================] - 0s 12ms/step - loss: 10.0246 - mae: 10.0246\n",
            "Epoch 21/100\n",
            "1/1 [==============================] - 0s 14ms/step - loss: 9.8680 - mae: 9.8680\n",
            "Epoch 22/100\n",
            "1/1 [==============================] - 0s 11ms/step - loss: 9.7101 - mae: 9.7101\n",
            "Epoch 23/100\n",
            "1/1 [==============================] - 0s 13ms/step - loss: 9.5507 - mae: 9.5507\n",
            "Epoch 24/100\n",
            "1/1 [==============================] - 0s 16ms/step - loss: 9.3899 - mae: 9.3899\n",
            "Epoch 25/100\n",
            "1/1 [==============================] - 0s 14ms/step - loss: 9.2275 - mae: 9.2275\n",
            "Epoch 26/100\n",
            "1/1 [==============================] - 0s 14ms/step - loss: 9.0637 - mae: 9.0637\n",
            "Epoch 27/100\n",
            "1/1 [==============================] - 0s 14ms/step - loss: 8.8985 - mae: 8.8985\n",
            "Epoch 28/100\n",
            "1/1 [==============================] - 0s 13ms/step - loss: 8.7315 - mae: 8.7315\n",
            "Epoch 29/100\n",
            "1/1 [==============================] - 0s 19ms/step - loss: 8.5628 - mae: 8.5628\n",
            "Epoch 30/100\n",
            "1/1 [==============================] - 0s 20ms/step - loss: 8.3922 - mae: 8.3922\n",
            "Epoch 31/100\n",
            "1/1 [==============================] - 0s 21ms/step - loss: 8.2197 - mae: 8.2197\n",
            "Epoch 32/100\n",
            "1/1 [==============================] - 0s 15ms/step - loss: 8.0452 - mae: 8.0452\n",
            "Epoch 33/100\n",
            "1/1 [==============================] - 0s 20ms/step - loss: 7.8685 - mae: 7.8685\n",
            "Epoch 34/100\n",
            "1/1 [==============================] - 0s 24ms/step - loss: 7.6896 - mae: 7.6896\n",
            "Epoch 35/100\n",
            "1/1 [==============================] - 0s 16ms/step - loss: 7.5083 - mae: 7.5083\n",
            "Epoch 36/100\n",
            "1/1 [==============================] - 0s 17ms/step - loss: 7.3245 - mae: 7.3245\n",
            "Epoch 37/100\n",
            "1/1 [==============================] - 0s 16ms/step - loss: 7.1383 - mae: 7.1383\n",
            "Epoch 38/100\n",
            "1/1 [==============================] - 0s 16ms/step - loss: 6.9497 - mae: 6.9497\n",
            "Epoch 39/100\n",
            "1/1 [==============================] - 0s 13ms/step - loss: 6.7584 - mae: 6.7584\n",
            "Epoch 40/100\n",
            "1/1 [==============================] - 0s 18ms/step - loss: 6.5646 - mae: 6.5646\n",
            "Epoch 41/100\n",
            "1/1 [==============================] - 0s 15ms/step - loss: 6.3682 - mae: 6.3682\n",
            "Epoch 42/100\n",
            "1/1 [==============================] - 0s 14ms/step - loss: 6.1691 - mae: 6.1691\n",
            "Epoch 43/100\n",
            "1/1 [==============================] - 0s 14ms/step - loss: 5.9674 - mae: 5.9674\n",
            "Epoch 44/100\n",
            "1/1 [==============================] - 0s 16ms/step - loss: 5.7626 - mae: 5.7626\n",
            "Epoch 45/100\n",
            "1/1 [==============================] - 0s 13ms/step - loss: 5.5548 - mae: 5.5548\n",
            "Epoch 46/100\n",
            "1/1 [==============================] - 0s 13ms/step - loss: 5.3439 - mae: 5.3439\n",
            "Epoch 47/100\n",
            "1/1 [==============================] - 0s 18ms/step - loss: 5.1297 - mae: 5.1297\n",
            "Epoch 48/100\n",
            "1/1 [==============================] - 0s 15ms/step - loss: 4.9124 - mae: 4.9124\n",
            "Epoch 49/100\n",
            "1/1 [==============================] - 0s 12ms/step - loss: 4.6918 - mae: 4.6918\n",
            "Epoch 50/100\n",
            "1/1 [==============================] - 0s 12ms/step - loss: 4.4679 - mae: 4.4679\n",
            "Epoch 51/100\n",
            "1/1 [==============================] - 0s 13ms/step - loss: 4.2405 - mae: 4.2405\n",
            "Epoch 52/100\n",
            "1/1 [==============================] - 0s 12ms/step - loss: 4.0097 - mae: 4.0097\n",
            "Epoch 53/100\n",
            "1/1 [==============================] - 0s 12ms/step - loss: 3.9044 - mae: 3.9044\n",
            "Epoch 54/100\n",
            "1/1 [==============================] - 0s 12ms/step - loss: 3.8298 - mae: 3.8298\n",
            "Epoch 55/100\n",
            "1/1 [==============================] - 0s 20ms/step - loss: 3.7581 - mae: 3.7581\n",
            "Epoch 56/100\n",
            "1/1 [==============================] - 0s 13ms/step - loss: 3.6891 - mae: 3.6891\n",
            "Epoch 57/100\n",
            "1/1 [==============================] - 0s 18ms/step - loss: 3.6853 - mae: 3.6853\n",
            "Epoch 58/100\n",
            "1/1 [==============================] - 0s 12ms/step - loss: 3.7176 - mae: 3.7176\n",
            "Epoch 59/100\n",
            "1/1 [==============================] - 0s 14ms/step - loss: 3.7451 - mae: 3.7451\n",
            "Epoch 60/100\n",
            "1/1 [==============================] - 0s 13ms/step - loss: 3.7680 - mae: 3.7680\n",
            "Epoch 61/100\n",
            "1/1 [==============================] - 0s 14ms/step - loss: 3.7866 - mae: 3.7866\n",
            "Epoch 62/100\n",
            "1/1 [==============================] - 0s 13ms/step - loss: 3.8012 - mae: 3.8012\n",
            "Epoch 63/100\n",
            "1/1 [==============================] - 0s 14ms/step - loss: 3.8123 - mae: 3.8123\n",
            "Epoch 64/100\n",
            "1/1 [==============================] - 0s 12ms/step - loss: 3.8201 - mae: 3.8201\n",
            "Epoch 65/100\n",
            "1/1 [==============================] - 0s 12ms/step - loss: 3.8269 - mae: 3.8269\n",
            "Epoch 66/100\n",
            "1/1 [==============================] - 0s 12ms/step - loss: 3.8319 - mae: 3.8319\n",
            "Epoch 67/100\n",
            "1/1 [==============================] - 0s 12ms/step - loss: 3.8307 - mae: 3.8307\n",
            "Epoch 68/100\n",
            "1/1 [==============================] - 0s 11ms/step - loss: 3.8304 - mae: 3.8304\n",
            "Epoch 69/100\n",
            "1/1 [==============================] - 0s 13ms/step - loss: 3.8279 - mae: 3.8279\n",
            "Epoch 70/100\n",
            "1/1 [==============================] - 0s 12ms/step - loss: 3.8232 - mae: 3.8232\n",
            "Epoch 71/100\n",
            "1/1 [==============================] - 0s 14ms/step - loss: 3.8164 - mae: 3.8164\n",
            "Epoch 72/100\n",
            "1/1 [==============================] - 0s 13ms/step - loss: 3.8077 - mae: 3.8077\n",
            "Epoch 73/100\n",
            "1/1 [==============================] - 0s 13ms/step - loss: 3.7974 - mae: 3.7974\n",
            "Epoch 74/100\n",
            "1/1 [==============================] - 0s 11ms/step - loss: 3.7856 - mae: 3.7856\n",
            "Epoch 75/100\n",
            "1/1 [==============================] - 0s 12ms/step - loss: 3.7723 - mae: 3.7723\n",
            "Epoch 76/100\n",
            "1/1 [==============================] - 0s 11ms/step - loss: 3.7577 - mae: 3.7577\n",
            "Epoch 77/100\n",
            "1/1 [==============================] - 0s 11ms/step - loss: 3.7417 - mae: 3.7417\n",
            "Epoch 78/100\n",
            "1/1 [==============================] - 0s 14ms/step - loss: 3.7299 - mae: 3.7299\n",
            "Epoch 79/100\n",
            "1/1 [==============================] - 0s 12ms/step - loss: 3.7089 - mae: 3.7089\n",
            "Epoch 80/100\n",
            "1/1 [==============================] - 0s 12ms/step - loss: 3.6928 - mae: 3.6928\n",
            "Epoch 81/100\n",
            "1/1 [==============================] - 0s 12ms/step - loss: 3.6762 - mae: 3.6762\n",
            "Epoch 82/100\n",
            "1/1 [==============================] - 0s 12ms/step - loss: 3.6585 - mae: 3.6585\n",
            "Epoch 83/100\n",
            "1/1 [==============================] - 0s 14ms/step - loss: 3.6397 - mae: 3.6397\n",
            "Epoch 84/100\n",
            "1/1 [==============================] - 0s 17ms/step - loss: 3.6197 - mae: 3.6197\n",
            "Epoch 85/100\n",
            "1/1 [==============================] - 0s 13ms/step - loss: 3.5990 - mae: 3.5990\n",
            "Epoch 86/100\n",
            "1/1 [==============================] - 0s 14ms/step - loss: 3.5781 - mae: 3.5781\n",
            "Epoch 87/100\n",
            "1/1 [==============================] - 0s 17ms/step - loss: 3.5568 - mae: 3.5568\n",
            "Epoch 88/100\n",
            "1/1 [==============================] - 0s 15ms/step - loss: 3.5352 - mae: 3.5352\n",
            "Epoch 89/100\n",
            "1/1 [==============================] - 0s 13ms/step - loss: 3.5132 - mae: 3.5132\n",
            "Epoch 90/100\n",
            "1/1 [==============================] - 0s 12ms/step - loss: 3.4909 - mae: 3.4909\n",
            "Epoch 91/100\n",
            "1/1 [==============================] - 0s 11ms/step - loss: 3.4682 - mae: 3.4682\n",
            "Epoch 92/100\n",
            "1/1 [==============================] - 0s 15ms/step - loss: 3.4565 - mae: 3.4565\n",
            "Epoch 93/100\n",
            "1/1 [==============================] - 0s 10ms/step - loss: 3.4629 - mae: 3.4629\n",
            "Epoch 94/100\n",
            "1/1 [==============================] - 0s 11ms/step - loss: 3.4633 - mae: 3.4633\n",
            "Epoch 95/100\n",
            "1/1 [==============================] - 0s 11ms/step - loss: 3.4580 - mae: 3.4580\n",
            "Epoch 96/100\n",
            "1/1 [==============================] - 0s 11ms/step - loss: 3.4538 - mae: 3.4538\n",
            "Epoch 97/100\n",
            "1/1 [==============================] - 0s 10ms/step - loss: 3.4393 - mae: 3.4393\n",
            "Epoch 98/100\n",
            "1/1 [==============================] - 0s 16ms/step - loss: 3.4189 - mae: 3.4189\n",
            "Epoch 99/100\n",
            "1/1 [==============================] - 0s 14ms/step - loss: 3.3993 - mae: 3.3993\n",
            "Epoch 100/100\n",
            "1/1 [==============================] - 0s 14ms/step - loss: 3.3828 - mae: 3.3828\n"
          ]
        },
        {
          "output_type": "execute_result",
          "data": {
            "text/plain": [
              "<keras.callbacks.History at 0x7f752e725070>"
            ]
          },
          "metadata": {},
          "execution_count": 18
        }
      ]
    },
    {
      "cell_type": "code",
      "source": [
        "model.predict([17])"
      ],
      "metadata": {
        "colab": {
          "base_uri": "https://localhost:8080/"
        },
        "id": "Xr-kYsMptM7k",
        "outputId": "cbffa1ed-f9a8-4471-c24e-b6eb25dcc4e7"
      },
      "execution_count": 19,
      "outputs": [
        {
          "output_type": "stream",
          "name": "stderr",
          "text": [
            "WARNING:tensorflow:5 out of the last 5 calls to <function Model.make_predict_function.<locals>.predict_function at 0x7f752e73b790> triggered tf.function retracing. Tracing is expensive and the excessive number of tracings could be due to (1) creating @tf.function repeatedly in a loop, (2) passing tensors with different shapes, (3) passing Python objects instead of tensors. For (1), please define your @tf.function outside of the loop. For (2), @tf.function has reduce_retracing=True option that can avoid unnecessary retracing. For (3), please refer to https://www.tensorflow.org/guide/function#controlling_retracing and https://www.tensorflow.org/api_docs/python/tf/function for  more details.\n"
          ]
        },
        {
          "output_type": "stream",
          "name": "stdout",
          "text": [
            "1/1 [==============================] - 0s 82ms/step\n"
          ]
        },
        {
          "output_type": "execute_result",
          "data": {
            "text/plain": [
              "array([[31.665892]], dtype=float32)"
            ]
          },
          "metadata": {},
          "execution_count": 19
        }
      ]
    },
    {
      "cell_type": "code",
      "source": [
        "#Evaluation\n",
        "#visualise the data\n",
        "X=tf.range(-100,100,4)\n",
        "X"
      ],
      "metadata": {
        "colab": {
          "base_uri": "https://localhost:8080/"
        },
        "id": "jS4J17bFtvQY",
        "outputId": "87b15ccc-8769-4df3-bbbc-5f89b678a0f4"
      },
      "execution_count": 20,
      "outputs": [
        {
          "output_type": "execute_result",
          "data": {
            "text/plain": [
              "<tf.Tensor: shape=(50,), dtype=int32, numpy=\n",
              "array([-100,  -96,  -92,  -88,  -84,  -80,  -76,  -72,  -68,  -64,  -60,\n",
              "        -56,  -52,  -48,  -44,  -40,  -36,  -32,  -28,  -24,  -20,  -16,\n",
              "        -12,   -8,   -4,    0,    4,    8,   12,   16,   20,   24,   28,\n",
              "         32,   36,   40,   44,   48,   52,   56,   60,   64,   68,   72,\n",
              "         76,   80,   84,   88,   92,   96], dtype=int32)>"
            ]
          },
          "metadata": {},
          "execution_count": 20
        }
      ]
    },
    {
      "cell_type": "code",
      "source": [
        "\n",
        "y=X+10\n",
        "y"
      ],
      "metadata": {
        "colab": {
          "base_uri": "https://localhost:8080/"
        },
        "id": "NuIOAqqxt0kc",
        "outputId": "9343aaf4-c156-4dfb-bfa0-d21a9c850814"
      },
      "execution_count": 21,
      "outputs": [
        {
          "output_type": "execute_result",
          "data": {
            "text/plain": [
              "<tf.Tensor: shape=(50,), dtype=int32, numpy=\n",
              "array([-90, -86, -82, -78, -74, -70, -66, -62, -58, -54, -50, -46, -42,\n",
              "       -38, -34, -30, -26, -22, -18, -14, -10,  -6,  -2,   2,   6,  10,\n",
              "        14,  18,  22,  26,  30,  34,  38,  42,  46,  50,  54,  58,  62,\n",
              "        66,  70,  74,  78,  82,  86,  90,  94,  98, 102, 106], dtype=int32)>"
            ]
          },
          "metadata": {},
          "execution_count": 21
        }
      ]
    },
    {
      "cell_type": "code",
      "source": [
        "plt.scatter(X,y)"
      ],
      "metadata": {
        "colab": {
          "base_uri": "https://localhost:8080/",
          "height": 282
        },
        "id": "OHrktey6t412",
        "outputId": "8c593e3c-5664-43c0-b2db-f0ff0c6dfa66"
      },
      "execution_count": 22,
      "outputs": [
        {
          "output_type": "execute_result",
          "data": {
            "text/plain": [
              "<matplotlib.collections.PathCollection at 0x7f752e681160>"
            ]
          },
          "metadata": {},
          "execution_count": 22
        },
        {
          "output_type": "display_data",
          "data": {
            "text/plain": [
              "<Figure size 432x288 with 1 Axes>"
            ],
            "image/png": "[encoded data removed]"
          },
          "metadata": {
            "needs_background": "light"
          }
        }
      ]
    },
    {
      "cell_type": "code",
      "source": [
        "\n",
        "#splitting the data into training and testing set\n",
        "len(X)\n",
        "     "
      ],
      "metadata": {
        "colab": {
          "base_uri": "https://localhost:8080/"
        },
        "id": "dlvxNPSgt9m8",
        "outputId": "26c0f69e-7b16-47fa-8793-ce5369f485c3"
      },
      "execution_count": 23,
      "outputs": [
        {
          "output_type": "execute_result",
          "data": {
            "text/plain": [
              "50"
            ]
          },
          "metadata": {},
          "execution_count": 23
        }
      ]
    },
    {
      "cell_type": "code",
      "source": [
        "X_train=X[:40]\n",
        "X_test=X[40:]\n",
        "y_train=y[:40]\n",
        "y_test=y[40:]\n",
        "len(X_train),len(X_test),len(y_train),len(y_test)"
      ],
      "metadata": {
        "colab": {
          "base_uri": "https://localhost:8080/"
        },
        "id": "zeEl1mcOuDtk",
        "outputId": "c947d400-0483-4ab3-caaa-02a00060dc2e"
      },
      "execution_count": 24,
      "outputs": [
        {
          "output_type": "execute_result",
          "data": {
            "text/plain": [
              "(40, 10, 40, 10)"
            ]
          },
          "metadata": {},
          "execution_count": 24
        }
      ]
    },
    {
      "cell_type": "code",
      "source": [
        "plt.figure(figsize=(10,7))\n",
        "plt.scatter(X_train,y_train,c=\"b\",label=\"Training Data\")\n",
        "plt.scatter(X_test,y_test,c=\"r\",label=\"Testing Data\")"
      ],
      "metadata": {
        "colab": {
          "base_uri": "https://localhost:8080/",
          "height": 445
        },
        "id": "wvheg27WuJod",
        "outputId": "116da15b-6a30-4349-b723-8b07a9d8f437"
      },
      "execution_count": 25,
      "outputs": [
        {
          "output_type": "execute_result",
          "data": {
            "text/plain": [
              "<matplotlib.collections.PathCollection at 0x7f752e5fa250>"
            ]
          },
          "metadata": {},
          "execution_count": 25
        },
        {
          "output_type": "display_data",
          "data": {
            "text/plain": [
              "<Figure size 720x504 with 1 Axes>"
            ],
            "image/png": "[encoded data removed]"
          },
          "metadata": {
            "needs_background": "light"
          }
        }
      ]
    },
    {
      "cell_type": "code",
      "source": [
        "from tensorflow.keras.utils import plot_model\n",
        "plot_model(model=model,show_shapes=True)"
      ],
      "metadata": {
        "colab": {
          "base_uri": "https://localhost:8080/",
          "height": 312
        },
        "id": "ZOG4MegNuQy5",
        "outputId": "2bf8daf2-3409-4e9d-8cdc-dad6beede7c1"
      },
      "execution_count": 26,
      "outputs": [
        {
          "output_type": "execute_result",
          "data": {
            "image/png": "[encoded data removed]",
            "text/plain": [
              "<IPython.core.display.Image object>"
            ]
          },
          "metadata": {},
          "execution_count": 26
        }
      ]
    },
    {
      "cell_type": "code",
      "source": [
        "model=tf.keras.Sequential([\n",
        "    tf.keras.layers.Dense(10,input_shape=[1],name=\"input_layer\"),\n",
        "    tf.keras .layers.Dense(1)\n",
        "])\n",
        "model.compile(loss=tf.keras.losses.mae,optimizer=tf.keras.optimizers.Adam(lr=0.01),metrics=[\"mae\"])"
      ],
      "metadata": {
        "colab": {
          "base_uri": "https://localhost:8080/"
        },
        "id": "Rie2dl_Fuc9b",
        "outputId": "cc2cc140-9136-4433-ec2e-ee9f341eca1f"
      },
      "execution_count": 27,
      "outputs": [
        {
          "output_type": "stream",
          "name": "stderr",
          "text": [
            "WARNING:absl:`lr` is deprecated, please use `learning_rate` instead, or use the legacy optimizer, e.g.,tf.keras.optimizers.legacy.Adam.\n"
          ]
        }
      ]
    },
    {
      "cell_type": "code",
      "source": [
        "model.fit(X_train,y_train,epochs=100,verbose=0)"
      ],
      "metadata": {
        "colab": {
          "base_uri": "https://localhost:8080/"
        },
        "id": "1b8LduhxuffX",
        "outputId": "3c980fc1-4458-4d2e-b550-b5a306bdad54"
      },
      "execution_count": 28,
      "outputs": [
        {
          "output_type": "execute_result",
          "data": {
            "text/plain": [
              "<keras.callbacks.History at 0x7f752e57d0a0>"
            ]
          },
          "metadata": {},
          "execution_count": 28
        }
      ]
    },
    {
      "cell_type": "code",
      "source": [
        "y_pred=model.predict(X_test)\n",
        "y_pred"
      ],
      "metadata": {
        "colab": {
          "base_uri": "https://localhost:8080/"
        },
        "id": "GrWy75ehukYg",
        "outputId": "be498eb9-f677-4186-ce68-dee49c468459"
      },
      "execution_count": 29,
      "outputs": [
        {
          "output_type": "stream",
          "name": "stderr",
          "text": [
            "WARNING:tensorflow:6 out of the last 6 calls to <function Model.make_predict_function.<locals>.predict_function at 0x7f752e5639d0> triggered tf.function retracing. Tracing is expensive and the excessive number of tracings could be due to (1) creating @tf.function repeatedly in a loop, (2) passing tensors with different shapes, (3) passing Python objects instead of tensors. For (1), please define your @tf.function outside of the loop. For (2), @tf.function has reduce_retracing=True option that can avoid unnecessary retracing. For (3), please refer to https://www.tensorflow.org/guide/function#controlling_retracing and https://www.tensorflow.org/api_docs/python/tf/function for  more details.\n"
          ]
        },
        {
          "output_type": "stream",
          "name": "stdout",
          "text": [
            "1/1 [==============================] - 0s 78ms/step\n"
          ]
        },
        {
          "output_type": "execute_result",
          "data": {
            "text/plain": [
              "array([[53.54703 ],\n",
              "       [57.081436],\n",
              "       [60.615833],\n",
              "       [64.150215],\n",
              "       [67.684616],\n",
              "       [71.21901 ],\n",
              "       [74.75341 ],\n",
              "       [78.2878  ],\n",
              "       [81.822205],\n",
              "       [85.3566  ]], dtype=float32)"
            ]
          },
          "metadata": {},
          "execution_count": 29
        }
      ]
    },
    {
      "cell_type": "code",
      "source": [
        "\n",
        "def plot_predictions(X_train=X_train,X_test=X_test,y_train=y_train,y_test=y_test,y_pred=y_pred):\n",
        "  plt.figure(figsize=(10,7))\n",
        "  plt.scatter(X_train,y_train,c=\"b\",label=\"Training Data\")\n",
        "  plt.scatter(X_test,y_test,c=\"g\",label=\"Testing Data\")\n",
        "  plt.scatter(X_test,y_pred,c=\"r\",label=\"predictions\")\n",
        "plot_predictions()\n",
        "           "
      ],
      "metadata": {
        "colab": {
          "base_uri": "https://localhost:8080/",
          "height": 428
        },
        "id": "7gzx7MCNuo4_",
        "outputId": "fa77998a-8c31-402e-9ff6-4a96ba209637"
      },
      "execution_count": 30,
      "outputs": [
        {
          "output_type": "display_data",
          "data": {
            "text/plain": [
              "<Figure size 720x504 with 1 Axes>"
            ],
            "image/png": "[encoded data removed]"
          },
          "metadata": {
            "needs_background": "light"
          }
        }
      ]
    },
    {
      "cell_type": "code",
      "source": [
        "y_test"
      ],
      "metadata": {
        "colab": {
          "base_uri": "https://localhost:8080/"
        },
        "id": "R6MWyP_iuyGO",
        "outputId": "b715abe4-2ab6-4cb8-897c-14eb5a215f79"
      },
      "execution_count": 31,
      "outputs": [
        {
          "output_type": "execute_result",
          "data": {
            "text/plain": [
              "<tf.Tensor: shape=(10,), dtype=int32, numpy=array([ 70,  74,  78,  82,  86,  90,  94,  98, 102, 106], dtype=int32)>"
            ]
          },
          "metadata": {},
          "execution_count": 31
        }
      ]
    },
    {
      "cell_type": "code",
      "source": [
        "y_pred"
      ],
      "metadata": {
        "colab": {
          "base_uri": "https://localhost:8080/"
        },
        "id": "o9FL2cI7u2Z1",
        "outputId": "cce950e6-5463-49f0-8f97-ab31be3dfc16"
      },
      "execution_count": 32,
      "outputs": [
        {
          "output_type": "execute_result",
          "data": {
            "text/plain": [
              "array([[53.54703 ],\n",
              "       [57.081436],\n",
              "       [60.615833],\n",
              "       [64.150215],\n",
              "       [67.684616],\n",
              "       [71.21901 ],\n",
              "       [74.75341 ],\n",
              "       [78.2878  ],\n",
              "       [81.822205],\n",
              "       [85.3566  ]], dtype=float32)"
            ]
          },
          "metadata": {},
          "execution_count": 32
        }
      ]
    },
    {
      "cell_type": "code",
      "source": [
        "sum(abs((tf.cast(y_test,dtype=tf.float32)-tf.squeeze(y_pred))))/10"
      ],
      "metadata": {
        "colab": {
          "base_uri": "https://localhost:8080/"
        },
        "id": "xwKFm8Qku8Kp",
        "outputId": "1b931d69-c65c-46ce-91ed-e99f9c0ee370"
      },
      "execution_count": 33,
      "outputs": [
        {
          "output_type": "execute_result",
          "data": {
            "text/plain": [
              "<tf.Tensor: shape=(), dtype=float32, numpy=18.548183>"
            ]
          },
          "metadata": {},
          "execution_count": 33
        }
      ]
    },
    {
      "cell_type": "code",
      "source": [
        "tf.keras.losses.mae(y_test,tf.squeeze( y_pred))"
      ],
      "metadata": {
        "colab": {
          "base_uri": "https://localhost:8080/"
        },
        "id": "WuvjTyhEvAy3",
        "outputId": "fdf60f2f-3029-40b9-cb7c-f86b05a06551"
      },
      "execution_count": 34,
      "outputs": [
        {
          "output_type": "execute_result",
          "data": {
            "text/plain": [
              "<tf.Tensor: shape=(), dtype=float32, numpy=18.548183>"
            ]
          },
          "metadata": {},
          "execution_count": 34
        }
      ]
    },
    {
      "cell_type": "code",
      "source": [
        "tf.keras.losses.mean_squared_error(y_true=y_test,y_pred=tf.squeeze(y_pred))"
      ],
      "metadata": {
        "colab": {
          "base_uri": "https://localhost:8080/"
        },
        "id": "cl3d1tlAvDX9",
        "outputId": "3b6ef0df-64f6-4a56-ce73-dbb55b01cd6c"
      },
      "execution_count": 35,
      "outputs": [
        {
          "output_type": "execute_result",
          "data": {
            "text/plain": [
              "<tf.Tensor: shape=(), dtype=float32, numpy=345.82364>"
            ]
          },
          "metadata": {},
          "execution_count": 35
        }
      ]
    }
  ]
}